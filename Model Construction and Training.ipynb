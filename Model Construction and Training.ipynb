{
 "cells": [
  {
   "cell_type": "markdown",
   "id": "d0feae51",
   "metadata": {},
   "source": [
    "# Downloading Dataset"
   ]
  },
  {
   "cell_type": "code",
   "execution_count": 7,
   "id": "004e5d03",
   "metadata": {},
   "outputs": [],
   "source": [
    "from bs4 import BeautifulSoup\n",
    "import requests\n",
    "import os"
   ]
  },
  {
   "cell_type": "code",
   "execution_count": 43,
   "id": "ee0c23b9",
   "metadata": {},
   "outputs": [],
   "source": [
    "domain = 'https://raw.githubusercontent.com/balajisrinivas/Face-Mask-Detection/master/dataset/' \n",
    "path = 'https://github.com/balajisrinivas/Face-Mask-Detection/tree/master/dataset/'\n",
    "categories = ['with_mask','without_mask']\n",
    "des_loc = os.path.join(os.curdir,'dataset')"
   ]
  },
  {
   "cell_type": "raw",
   "id": "c34fb2a9",
   "metadata": {},
   "source": [
    "for cat in categories:\n",
    "    \n",
    "    page = requests.get(path+cat)\n",
    "    html = page.text\n",
    "    soup = BeautifulSoup(html,'html.parser')\n",
    "    \n",
    "    d_loc = os.path.join(des_loc,cat)   \n",
    "    i = 0\n",
    "    \n",
    "    for link in soup.find_all('a'):\n",
    "        url = link.get('href')\n",
    "        \n",
    "        postfix = '/'.join(url.split('/')[-2:])\n",
    "        res_url = domain+postfix\n",
    "        \n",
    "        if '.jpg' in url:\n",
    "            response = requests.get(res_url)\n",
    "            file = open(os.path.join(d_loc,'image{}.jpg'.format(i)), 'wb')\n",
    "            file.write(response.content)\n",
    "            file.close()\n",
    "            \n",
    "            i = i+1\n",
    "        if '.png' in url:\n",
    "            response = requests.get(res_url)\n",
    "            file = open(os.path.join(d_loc,'image{}.png'.format(i)), 'wb')\n",
    "            file.write(response.content)\n",
    "            file.close()\n",
    "            \n",
    "            i = i+1"
   ]
  },
  {
   "cell_type": "code",
   "execution_count": 5,
   "id": "58e41763",
   "metadata": {},
   "outputs": [],
   "source": [
    "import os\n",
    "import numpy as np"
   ]
  },
  {
   "cell_type": "code",
   "execution_count": 6,
   "id": "29530a6f",
   "metadata": {},
   "outputs": [],
   "source": [
    "DIRECTORY = os.path.join(os.curdir,'dataset')\n",
    "CATEGORIES = ['with_mask','without_mask']"
   ]
  },
  {
   "cell_type": "code",
   "execution_count": null,
   "id": "c7e861c3",
   "metadata": {},
   "outputs": [],
   "source": [
    "from tensorflow import keras\n",
    "import matplotlib.pyplot as plt\n",
    "from tensorflow.keras.applications.mobilenet_v2 import preprocess_input\n",
    "from tensorflow.keras.preprocessing.image import img_to_array\n",
    "from tensorflow.keras.preprocessing.image import load_img\n",
    "from tensorflow.keras.preprocessing.image import ImageDataGenerator\n",
    "from tensorflow.keras.applications import MobileNetV2\n",
    "from tensorflow.keras.layers import Input\n",
    "from sklearn.preprocessing import LabelBinarizer\n",
    "from sklearn.model_selection import train_test_split\n",
    "from tensorflow.keras.utils import to_categorical\n",
    "from tensorflow.keras.layers import AveragePooling2D\n",
    "from tensorflow.keras.layers import Dense\n",
    "from tensorflow.keras.layers import Dropout\n",
    "from tensorflow.keras import Model"
   ]
  },
  {
   "cell_type": "markdown",
   "id": "bd1e6908",
   "metadata": {},
   "source": [
    "## Data Loading and Preprocessing"
   ]
  },
  {
   "cell_type": "code",
   "execution_count": 4,
   "id": "c48f7186",
   "metadata": {},
   "outputs": [],
   "source": [
    "# learning rate\n",
    "INIT_LR = 1e-4\n",
    "EPOCHS = 20\n",
    "BS = 32"
   ]
  },
  {
   "cell_type": "code",
   "execution_count": 5,
   "id": "910a976b",
   "metadata": {},
   "outputs": [],
   "source": [
    "data = []\n",
    "labels = []\n",
    "\n",
    "for category in CATEGORIES:\n",
    "    path = os.path.join(DIRECTORY,category)\n",
    "    for img in os.listdir(path):\n",
    "        img_path = os.path.join(path,img)\n",
    "        image = load_img(img_path,target_size=(224,224))\n",
    "        image = img_to_array(image)\n",
    "        image = keras.applications.xception.preprocess_input(image)\n",
    "        \n",
    "        data.append(image)\n",
    "        labels.append(category)"
   ]
  },
  {
   "cell_type": "code",
   "execution_count": 6,
   "id": "f9765e1b",
   "metadata": {},
   "outputs": [],
   "source": [
    "lb = LabelBinarizer()\n",
    "labels = lb.fit_transform(labels)\n",
    "labels = to_categorical(labels)\n",
    "data = np.array(data, dtype = 'float32')"
   ]
  },
  {
   "cell_type": "code",
   "execution_count": 7,
   "id": "94c2a814",
   "metadata": {},
   "outputs": [],
   "source": [
    "# splitting to training and testing set\n",
    "(trainX, testX, trainY, testY) = train_test_split(data, labels, test_size=.2, stratify=labels, random_state=17)"
   ]
  },
  {
   "cell_type": "markdown",
   "id": "895cef24",
   "metadata": {},
   "source": [
    "### Augmenting the dataset for better performance"
   ]
  },
  {
   "cell_type": "code",
   "execution_count": 8,
   "id": "4edde21b",
   "metadata": {},
   "outputs": [],
   "source": [
    "aug = ImageDataGenerator(\n",
    "           rotation_range = 20,\n",
    "           zoom_range = 0.15,\n",
    "           width_shift_range = 0.2,\n",
    "           height_shift_range = 0.2,\n",
    "           shear_range = 0.15,\n",
    "           horizontal_flip = True,\n",
    "           fill_mode = 'nearest')"
   ]
  },
  {
   "cell_type": "markdown",
   "id": "3c735471",
   "metadata": {},
   "source": [
    "### Model Construction\n",
    "###### --- Prefering Transfer Learning "
   ]
  },
  {
   "cell_type": "code",
   "execution_count": 9,
   "id": "f0db8c24",
   "metadata": {},
   "outputs": [],
   "source": [
    "baseModel = keras.applications.xception.Xception(weights='imagenet',include_top=False)"
   ]
  },
  {
   "cell_type": "code",
   "execution_count": 10,
   "id": "aa753154",
   "metadata": {},
   "outputs": [],
   "source": [
    "headModel = baseModel.output\n",
    "headModel = keras.layers.GlobalAveragePooling2D()(headModel) #pool_size = (7,7)\n",
    "headModel = Dense(2, activation = 'softmax')(headModel) "
   ]
  },
  {
   "cell_type": "code",
   "execution_count": 11,
   "id": "1e1392ca",
   "metadata": {},
   "outputs": [],
   "source": [
    "model = Model(inputs = baseModel.input , outputs = headModel)"
   ]
  },
  {
   "cell_type": "code",
   "execution_count": 12,
   "id": "411c6680",
   "metadata": {},
   "outputs": [],
   "source": [
    "# freezing weights in the base layers\n",
    "for layer in baseModel.layers:\n",
    "    layer.trainable = False"
   ]
  },
  {
   "cell_type": "code",
   "execution_count": 13,
   "id": "e5c21c80",
   "metadata": {},
   "outputs": [],
   "source": [
    "opt = keras.optimizers.SGD(learning_rate=0.2, momentum=0.9, decay = 0.01)\n",
    "\n",
    "model.compile(loss = 'binary_crossentropy' ,optimizer = opt , metrics = ['accuracy'])"
   ]
  },
  {
   "cell_type": "markdown",
   "id": "610af164",
   "metadata": {},
   "source": [
    "### Training"
   ]
  },
  {
   "cell_type": "code",
   "execution_count": 14,
   "id": "c29c9ba7",
   "metadata": {},
   "outputs": [
    {
     "name": "stdout",
     "output_type": "stream",
     "text": [
      "Epoch 1/5\n",
      "50/50 [==============================] - 250s 5s/step - loss: 0.0636 - accuracy: 0.9779 - val_loss: 0.0508 - val_accuracy: 0.9874\n",
      "Epoch 2/5\n",
      "50/50 [==============================] - 280s 6s/step - loss: 0.0172 - accuracy: 0.9912 - val_loss: 0.0249 - val_accuracy: 0.9924\n",
      "Epoch 3/5\n",
      "50/50 [==============================] - 211s 4s/step - loss: 0.0236 - accuracy: 0.9937 - val_loss: 0.0343 - val_accuracy: 0.9899\n",
      "Epoch 4/5\n",
      "50/50 [==============================] - 277s 6s/step - loss: 0.0128 - accuracy: 0.9950 - val_loss: 0.0307 - val_accuracy: 0.9899\n",
      "Epoch 5/5\n",
      "50/50 [==============================] - 282s 6s/step - loss: 0.0112 - accuracy: 0.9962 - val_loss: 0.0341 - val_accuracy: 0.9899\n"
     ]
    }
   ],
   "source": [
    "H = model.fit(aug.flow(trainX,trainY,batch_size=32),validation_data=(testX,testY),epochs=5)"
   ]
  },
  {
   "cell_type": "markdown",
   "id": "06c523cd",
   "metadata": {},
   "source": [
    "### plotting the accuraccy and losses over training epochs"
   ]
  },
  {
   "cell_type": "code",
   "execution_count": 15,
   "id": "d93a321f",
   "metadata": {},
   "outputs": [
    {
     "data": {
      "text/plain": [
       "<matplotlib.legend.Legend at 0x1d52ad24bb0>"
      ]
     },
     "execution_count": 15,
     "metadata": {},
     "output_type": "execute_result"
    },
    {
     "data": {
      "image/png": "[encoded data removed]",
      "text/plain": [
       "<Figure size 432x288 with 1 Axes>"
      ]
     },
     "metadata": {},
     "output_type": "display_data"
    }
   ],
   "source": [
    "N = 5\n",
    "plt.style.use(\"ggplot\")\n",
    "plt.figure()\n",
    "plt.plot(np.arange(0, N), H.history[\"loss\"], label=\"train_loss\")\n",
    "plt.plot(np.arange(0, N), H.history[\"val_loss\"], label=\"val_loss\")\n",
    "plt.plot(np.arange(0, N), H.history[\"accuracy\"], label=\"train_acc\")\n",
    "plt.plot(np.arange(0, N), H.history[\"val_accuracy\"], label=\"val_acc\")\n",
    "plt.title(\"Training Loss and Accuracy\")\n",
    "plt.xlabel(\"Epoch #\")\n",
    "plt.ylabel(\"Loss/Accuracy\")\n",
    "plt.legend(loc=\"lower left\")"
   ]
  },
  {
   "cell_type": "markdown",
   "id": "e1c3f690",
   "metadata": {},
   "source": [
    "### For faster detection consider converting to tflite"
   ]
  },
  {
   "cell_type": "code",
   "execution_count": 19,
   "id": "d8106b0d",
   "metadata": {},
   "outputs": [],
   "source": [
    "import tensorflow as tf"
   ]
  },
  {
   "cell_type": "code",
   "execution_count": 20,
   "id": "945d9235",
   "metadata": {},
   "outputs": [
    {
     "name": "stdout",
     "output_type": "stream",
     "text": [
      "INFO:tensorflow:Assets written to: C:\\Users\\atp17\\AppData\\Local\\Temp\\tmp2kp41ld9\\assets\n"
     ]
    },
    {
     "name": "stderr",
     "output_type": "stream",
     "text": [
      "C:\\Users\\atp17\\Anaconda3\\envs\\ml_env\\lib\\site-packages\\keras\\utils\\generic_utils.py:494: CustomMaskWarning: Custom mask layers require a config and must override get_config. When loading, the custom mask layer must be passed to the custom_objects argument.\n",
      "  warnings.warn('Custom mask layers require a config and must override '\n"
     ]
    }
   ],
   "source": [
    "converter = tf.lite.TFLiteConverter.from_keras_model(model)\n",
    "tflite_model = converter.convert()"
   ]
  },
  {
   "cell_type": "code",
   "execution_count": 21,
   "id": "e0614cdb",
   "metadata": {},
   "outputs": [],
   "source": [
    "with open('mask_model.tflite', 'wb') as f:\n",
    "    f.write(tflite_model)"
   ]
  }
 ],
 "metadata": {
  "kernelspec": {
   "display_name": "Python 3",
   "language": "python",
   "name": "python3"
  },
  "language_info": {
   "codemirror_mode": {
    "name": "ipython",
    "version": 3
   },
   "file_extension": ".py",
   "mimetype": "text/x-python",
   "name": "python",
   "nbconvert_exporter": "python",
   "pygments_lexer": "ipython3",
   "version": "3.8.8"
  }
 },
 "nbformat": 4,
 "nbformat_minor": 5
}
